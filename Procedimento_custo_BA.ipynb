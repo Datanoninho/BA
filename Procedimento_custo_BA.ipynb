{
  "nbformat": 4,
  "nbformat_minor": 0,
  "metadata": {
    "kernelspec": {
      "name": "python3",
      "display_name": "Python 3.7",
      "language": "python"
    },
    "language_info": {
      "name": "python",
      "version": "3.7.9",
      "mimetype": "text/x-python",
      "codemirror_mode": {
        "name": "ipython",
        "version": 3
      },
      "pygments_lexer": "ipython3",
      "nbconvert_exporter": "python",
      "file_extension": ".py"
    },
    "colab": {
      "name": "Procedimento_custo BA.ipynb",
      "provenance": [],
      "collapsed_sections": [
        "c2iD15nw8Aat",
        "YnyFAEv58x0q",
        "CBSkFldB-Iq6",
        "7Sx9K2YB-DGt",
        "CGb-wqTB-UgJ",
        "g_SmTwoZ-gnZ",
        "f8iqYgHC7DTR"
      ]
    }
  },
  "cells": [
    {
      "cell_type": "markdown",
      "metadata": {
        "id": "c2iD15nw8Aat"
      },
      "source": [
        "## Importação das LIBS"
      ]
    },
    {
      "cell_type": "code",
      "metadata": {
        "id": "JVLfX4Mb8DFi"
      },
      "source": [
        "#Importando as bibliotecas\r\n",
        "import types\r\n",
        "import pandas as pd"
      ],
      "execution_count": 1,
      "outputs": []
    },
    {
      "cell_type": "markdown",
      "metadata": {
        "id": "YnyFAEv58x0q"
      },
      "source": [
        "## Importação dos DATASET"
      ]
    },
    {
      "cell_type": "code",
      "metadata": {
        "id": "WfODeGDV20C0"
      },
      "source": [
        "#Lendo os arquivos .CSV\n",
        "df_codigo = pd.read_csv('codigo.csv', sep=';')\n",
        "df_procedimento = pd.read_csv('procedimento.csv', sep=';')\n",
        "df_DP = pd.read_csv('DPBA_M625.csv')\n",
        "df_w0 = pd.read_csv('DPBA_w0.csv')\n",
        "df_w1 = pd.read_csv('DPBA_w1.csv')\n",
        "df_DS = pd.read_csv('DSBA_M625.csv')"
      ],
      "execution_count": 2,
      "outputs": []
    },
    {
      "cell_type": "markdown",
      "metadata": {
        "id": "CBSkFldB-Iq6"
      },
      "source": [
        "## Mostrando o tamanha de cada dataset\r\n"
      ]
    },
    {
      "cell_type": "code",
      "metadata": {
        "colab": {
          "base_uri": "https://localhost:8080/"
        },
        "id": "DlNyGjBk9Cz3",
        "outputId": "49e35193-54f8-4924-a3e1-7e4374494c1f"
      },
      "source": [
        "# Tamanho do dataset codigo\r\n",
        "df_codigo.shape"
      ],
      "execution_count": 3,
      "outputs": [
        {
          "output_type": "execute_result",
          "data": {
            "text/plain": [
              "(115, 4)"
            ]
          },
          "metadata": {
            "tags": []
          },
          "execution_count": 3
        }
      ]
    },
    {
      "cell_type": "code",
      "metadata": {
        "colab": {
          "base_uri": "https://localhost:8080/"
        },
        "id": "j6m4iU7t9JXd",
        "outputId": "811eacb8-3f7e-4c7d-c2fe-91f67e0f6d65"
      },
      "source": [
        "# Tamanho do dataset procedimento\r\n",
        "df_procedimento.shape"
      ],
      "execution_count": 4,
      "outputs": [
        {
          "output_type": "execute_result",
          "data": {
            "text/plain": [
              "(1874, 2)"
            ]
          },
          "metadata": {
            "tags": []
          },
          "execution_count": 4
        }
      ]
    },
    {
      "cell_type": "code",
      "metadata": {
        "colab": {
          "base_uri": "https://localhost:8080/"
        },
        "id": "XHNuyWug9Jem",
        "outputId": "eb02d729-180b-4faf-c692-cdb06e18bdbb"
      },
      "source": [
        "# Tamanho do dataset DP\r\n",
        "df_DP.shape"
      ],
      "execution_count": 5,
      "outputs": [
        {
          "output_type": "execute_result",
          "data": {
            "text/plain": [
              "(25, 8)"
            ]
          },
          "metadata": {
            "tags": []
          },
          "execution_count": 5
        }
      ]
    },
    {
      "cell_type": "code",
      "metadata": {
        "colab": {
          "base_uri": "https://localhost:8080/"
        },
        "id": "YsDA7tIB9JmR",
        "outputId": "ea9e61eb-90dd-4fa8-9fba-5de12e10888f"
      },
      "source": [
        "# Tamanho do dataset w0\r\n",
        "df_w0.shape"
      ],
      "execution_count": 6,
      "outputs": [
        {
          "output_type": "execute_result",
          "data": {
            "text/plain": [
              "(1558, 8)"
            ]
          },
          "metadata": {
            "tags": []
          },
          "execution_count": 6
        }
      ]
    },
    {
      "cell_type": "code",
      "metadata": {
        "colab": {
          "base_uri": "https://localhost:8080/"
        },
        "id": "BBPU6c6_9Jun",
        "outputId": "4fa4400f-0445-480e-c466-616fe5c14ec1"
      },
      "source": [
        "# Tamanho do dataset w1\r\n",
        "df_w1.shape"
      ],
      "execution_count": 7,
      "outputs": [
        {
          "output_type": "execute_result",
          "data": {
            "text/plain": [
              "(1049, 8)"
            ]
          },
          "metadata": {
            "tags": []
          },
          "execution_count": 7
        }
      ]
    },
    {
      "cell_type": "code",
      "metadata": {
        "colab": {
          "base_uri": "https://localhost:8080/"
        },
        "id": "WQzuyq4t9KBM",
        "outputId": "53881a56-4f9d-4572-af75-f3bf44131005"
      },
      "source": [
        "# Tamanho do dataset DS\r\n",
        "df_DS.shape"
      ],
      "execution_count": 8,
      "outputs": [
        {
          "output_type": "execute_result",
          "data": {
            "text/plain": [
              "(0, 8)"
            ]
          },
          "metadata": {
            "tags": []
          },
          "execution_count": 8
        }
      ]
    },
    {
      "cell_type": "markdown",
      "metadata": {
        "id": "7Sx9K2YB-DGt"
      },
      "source": [
        "## Limpeza dos DADOS\r\n"
      ]
    },
    {
      "cell_type": "code",
      "metadata": {
        "id": "_1piGD-220C6"
      },
      "source": [
        "#Trocando a nomeclatura da coluna 'Código' para 'codigo'\n",
        "df_procedimento.rename(columns={'Código':'codigo'}, inplace=True)\n",
        "df_DP.rename(columns={'PROC_REA':'codigo'}, inplace=True)\n",
        "#Trocando a nomeclatura da coluna 'Código' para 'codigo'\n",
        "df_procedimento.rename(columns={'Código':'codigo'}, inplace=True)\n",
        "df_w0.rename(columns={'PROC_REA':'codigo'}, inplace=True)\n",
        "#Trocando a nomeclatura da coluna 'Código' para 'codigo'\n",
        "df_procedimento.rename(columns={'Código':'codigo'}, inplace=True)\n",
        "df_w1.rename(columns={'PROC_REA':'codigo'}, inplace=True)\n",
        "#Trocando a nomeclatura da coluna 'Código' para 'codigo'\n",
        "df_procedimento.rename(columns={'Código':'codigo'}, inplace=True)\n",
        "df_DS.rename(columns={'PROC_REA':'codigo'}, inplace=True)"
      ],
      "execution_count": 9,
      "outputs": []
    },
    {
      "cell_type": "code",
      "metadata": {
        "id": "qWEndTFH20DS"
      },
      "source": [
        "#Merge foi utilizado para unir as tabelas conforme a coluna 'procedimento'\n",
        "df_merge_DP = pd.merge(df_DP,df_procedimento, on='codigo')\n",
        "df_merge_w0 = pd.merge(df_w0,df_procedimento, on='codigo')\n",
        "df_merge_w1 = pd.merge(df_w1,df_procedimento, on='codigo')\n",
        "df_merge_DS = pd.merge(df_DS,df_procedimento, on='codigo')"
      ],
      "execution_count": 10,
      "outputs": []
    },
    {
      "cell_type": "code",
      "metadata": {
        "id": "3916pfRH20DU"
      },
      "source": [
        "#Merge foi utilizado para unir as tabelas conforme a coluna 'codigo'\n",
        "df_merge_DP = pd.merge(df_merge_DP,df_codigo, on='codigo')\n",
        "df_merge_w0 = pd.merge(df_merge_w0,df_codigo, on='codigo')\n",
        "df_merge_w1 = pd.merge(df_merge_w1,df_codigo, on='codigo')\n",
        "df_merge_DS = pd.merge(df_merge_DS,df_codigo, on='codigo')"
      ],
      "execution_count": 11,
      "outputs": []
    },
    {
      "cell_type": "code",
      "metadata": {
        "id": "1C-Sfeu120DV"
      },
      "source": [
        "df_merge_DP['Serviço Hospitalar '] = df_merge_DP['Serviço Hospitalar '].str.replace('.','')#alterando de . para ,\n",
        "df_merge_w0['Serviço Hospitalar '] = df_merge_w0['Serviço Hospitalar '].str.replace('.','')#alterando de . para ,\n",
        "df_merge_w1['Serviço Hospitalar '] = df_merge_w1['Serviço Hospitalar '].str.replace('.','')#alterando de . para ,\n",
        "df_merge_DS['Serviço Hospitalar '] = df_merge_DS['Serviço Hospitalar '].str.replace('.','')#alterando de . para ,"
      ],
      "execution_count": 12,
      "outputs": []
    },
    {
      "cell_type": "code",
      "metadata": {
        "id": "5t6SgdRl20EE"
      },
      "source": [
        "df_merge_DP['Serviço Hospitalar '] = df_merge_DP['Serviço Hospitalar '].str.replace(',','.').astype(float)#trocando de object para float\n",
        "df_merge_w0['Serviço Hospitalar '] = df_merge_w0['Serviço Hospitalar '].str.replace(',','.').astype(float)#trocando de object para float\n",
        "df_merge_w1['Serviço Hospitalar '] = df_merge_w1['Serviço Hospitalar '].str.replace(',','.').astype(float)#trocando de object para float\n",
        "df_merge_DS['Serviço Hospitalar '] = df_merge_DS['Serviço Hospitalar '].str.replace(',','.').astype(float)#trocando de object para float"
      ],
      "execution_count": 13,
      "outputs": []
    },
    {
      "cell_type": "code",
      "metadata": {
        "id": "-Qe6-xjZ20EE"
      },
      "source": [
        "df_merge_DP['Serviço Profissional'] = df_merge_DP['Serviço Profissional'].str.replace(',','.').astype(float)#trocando de object para float\n",
        "df_merge_w0['Serviço Profissional'] = df_merge_w0['Serviço Profissional'].str.replace(',','.').astype(float)#trocando de object para float\n",
        "df_merge_w1['Serviço Profissional'] = df_merge_w1['Serviço Profissional'].str.replace(',','.').astype(float)#trocando de object para float\n",
        "df_merge_DS['Serviço Profissional'] = df_merge_DS['Serviço Profissional'].str.replace(',','.').astype(float)#trocando de object para float"
      ],
      "execution_count": 14,
      "outputs": []
    },
    {
      "cell_type": "code",
      "metadata": {
        "id": "IFb1myst20EF"
      },
      "source": [
        "df_merge_DP['Total Hospitalar '] = df_merge_DP['Total Hospitalar '].str.replace('.','')#alterando de . para ,\n",
        "df_merge_w0['Total Hospitalar '] = df_merge_w0['Total Hospitalar '].str.replace('.','')#alterando de . para ,\n",
        "df_merge_w1['Total Hospitalar '] = df_merge_w1['Total Hospitalar '].str.replace('.','')#alterando de . para ,\n",
        "df_merge_DS['Total Hospitalar '] = df_merge_DS['Total Hospitalar '].str.replace('.','')#alterando de . para ,"
      ],
      "execution_count": 15,
      "outputs": []
    },
    {
      "cell_type": "code",
      "metadata": {
        "id": "vj8bKk9Y20EG"
      },
      "source": [
        "df_merge_DP['Total Hospitalar '] = df_merge_DP['Total Hospitalar '].str.replace(',','.').astype(float)#trocando de object para float\n",
        "df_merge_w0['Total Hospitalar '] = df_merge_w0['Total Hospitalar '].str.replace(',','.').astype(float)#trocando de object para float\n",
        "df_merge_w1['Total Hospitalar '] = df_merge_w1['Total Hospitalar '].str.replace(',','.').astype(float)#trocando de object para float\n",
        "df_merge_DS['Total Hospitalar '] = df_merge_DS['Total Hospitalar '].str.replace(',','.').astype(float)#trocando de object para float"
      ],
      "execution_count": 16,
      "outputs": []
    },
    {
      "cell_type": "markdown",
      "metadata": {
        "id": "CGb-wqTB-UgJ"
      },
      "source": [
        "## Criando a coluna 'Valor_Total_DIAS_PERM'"
      ]
    },
    {
      "cell_type": "code",
      "metadata": {
        "id": "DXGjsw-n20EG"
      },
      "source": [
        "novacoluna_DP = df_merge_DP['DIAS_PERM']*df_merge_DP['Total Hospitalar ']# calculando o total de dias com o total do valor por dia\n",
        "novacoluna_w0 = df_merge_w0['DIAS_PERM']*df_merge_w0['Total Hospitalar ']# calculando o total de dias com o total do valor por dia\n",
        "novacoluna_w1 = df_merge_w1['DIAS_PERM']*df_merge_w1['Total Hospitalar ']# calculando o total de dias com o total do valor por dia\n",
        "novacoluna_DS = df_merge_DS['DIAS_PERM']*df_merge_DS['Total Hospitalar ']# calculando o total de dias com o total do valor por dia"
      ],
      "execution_count": 17,
      "outputs": []
    },
    {
      "cell_type": "code",
      "metadata": {
        "id": "-eE4TyrP20EH"
      },
      "source": [
        "df_merge_DP.insert(loc=12, column='Valor_Total_DIAS_PERM', value=novacoluna_DP)#Criando uma nova coluna com o nome Total_DIAS_PERM\n",
        "df_merge_w0.insert(loc=12, column='Valor_Total_DIAS_PERM', value=novacoluna_w0)#Criando uma nova coluna com o nome Total_DIAS_PERM\n",
        "df_merge_w1.insert(loc=12, column='Valor_Total_DIAS_PERM', value=novacoluna_w1)#Criando uma nova coluna com o nome Total_DIAS_PERM\n",
        "df_merge_DS.insert(loc=12, column='Valor_Total_DIAS_PERM', value=novacoluna_DS)#Criando uma nova coluna com o nome Total_DIAS_PERM"
      ],
      "execution_count": 19,
      "outputs": []
    },
    {
      "cell_type": "markdown",
      "metadata": {
        "id": "g_SmTwoZ-gnZ"
      },
      "source": [
        "##Concatenando um dataset em baixo do outro"
      ]
    },
    {
      "cell_type": "code",
      "metadata": {
        "id": "5V471kFT20Eo"
      },
      "source": [
        "#Colocando todos dataframe um em baixo do outro\r\n",
        "df = pd.concat([df_merge_DP, df_merge_w0,df_merge_w1,df_merge_DS])"
      ],
      "execution_count": 20,
      "outputs": []
    },
    {
      "cell_type": "code",
      "metadata": {
        "id": "BU3WM1FA20Ep"
      },
      "source": [
        "#Colocando todos dataframe em um unico dataframe\r\n",
        "df_teste = pd.DataFrame(df[['DIAG_PRINC','Procedimento ','Total Hospitalar ']])"
      ],
      "execution_count": 21,
      "outputs": []
    },
    {
      "cell_type": "code",
      "metadata": {
        "id": "1C5uPbQo20Ep"
      },
      "source": [
        "#Agrumando pela colunas 'DIAG_PRINC' e 'Procedimento '\r\n",
        "df_grp = df_teste.groupby(['DIAG_PRINC','Procedimento '], as_index=False).sum()"
      ],
      "execution_count": 22,
      "outputs": []
    },
    {
      "cell_type": "markdown",
      "metadata": {
        "id": "f8iqYgHC7DTR"
      },
      "source": [
        "## *Mostrando na tela o resultado*\r\n",
        "\r\n",
        "> Bloco com avanço\r\n",
        "\r\n"
      ]
    },
    {
      "cell_type": "code",
      "metadata": {
        "colab": {
          "base_uri": "https://localhost:8080/",
          "height": 948
        },
        "id": "Bk_u9gtR20Ep",
        "outputId": "0028be7f-37f7-4482-ec60-29f5291d7ea8"
      },
      "source": [
        "#Monstrando as 30 primeiras linhas do dataframe\r\n",
        "df_grp.head(30)"
      ],
      "execution_count": 23,
      "outputs": [
        {
          "output_type": "execute_result",
          "data": {
            "text/html": [
              "<div>\n",
              "<style scoped>\n",
              "    .dataframe tbody tr th:only-of-type {\n",
              "        vertical-align: middle;\n",
              "    }\n",
              "\n",
              "    .dataframe tbody tr th {\n",
              "        vertical-align: top;\n",
              "    }\n",
              "\n",
              "    .dataframe thead th {\n",
              "        text-align: right;\n",
              "    }\n",
              "</style>\n",
              "<table border=\"1\" class=\"dataframe\">\n",
              "  <thead>\n",
              "    <tr style=\"text-align: right;\">\n",
              "      <th></th>\n",
              "      <th>DIAG_PRINC</th>\n",
              "      <th>Procedimento</th>\n",
              "      <th>Total Hospitalar</th>\n",
              "    </tr>\n",
              "  </thead>\n",
              "  <tbody>\n",
              "    <tr>\n",
              "      <th>0</th>\n",
              "      <td>M625</td>\n",
              "      <td>TOMOGRAFIA COMPUTADORIZADA DE PELVE / BACIA</td>\n",
              "      <td>138.63</td>\n",
              "    </tr>\n",
              "    <tr>\n",
              "      <th>1</th>\n",
              "      <td>M625</td>\n",
              "      <td>TRATAMENTO DE COMPLICACOES DE PROCEDIMENTOS CI...</td>\n",
              "      <td>398.66</td>\n",
              "    </tr>\n",
              "    <tr>\n",
              "      <th>2</th>\n",
              "      <td>M625</td>\n",
              "      <td>ULTRA-SONOGRAFIA DE ABDOMEN TOTAL</td>\n",
              "      <td>37.95</td>\n",
              "    </tr>\n",
              "    <tr>\n",
              "      <th>3</th>\n",
              "      <td>W000</td>\n",
              "      <td>DIAGNOSTICO E/OU ATENDIMENTO DE URGENCIA EM CL...</td>\n",
              "      <td>132.66</td>\n",
              "    </tr>\n",
              "    <tr>\n",
              "      <th>4</th>\n",
              "      <td>W000</td>\n",
              "      <td>EXCISAO DE LESAO E/OU SUTURA DE FERIMENTO DA P...</td>\n",
              "      <td>115.80</td>\n",
              "    </tr>\n",
              "    <tr>\n",
              "      <th>5</th>\n",
              "      <td>W000</td>\n",
              "      <td>TOMOGRAFIA COMPUTADORIZADA DE COLUNA CERVICAL ...</td>\n",
              "      <td>86.76</td>\n",
              "    </tr>\n",
              "    <tr>\n",
              "      <th>6</th>\n",
              "      <td>W000</td>\n",
              "      <td>TOMOGRAFIA COMPUTADORIZADA DE FACE / SEIOS DA ...</td>\n",
              "      <td>173.50</td>\n",
              "    </tr>\n",
              "    <tr>\n",
              "      <th>7</th>\n",
              "      <td>W000</td>\n",
              "      <td>TOMOGRAFIA COMPUTADORIZADA DE PELVE / BACIA</td>\n",
              "      <td>138.63</td>\n",
              "    </tr>\n",
              "    <tr>\n",
              "      <th>8</th>\n",
              "      <td>W000</td>\n",
              "      <td>TOMOGRAFIA COMPUTADORIZADA DE SEGMENTOS APENDI...</td>\n",
              "      <td>86.75</td>\n",
              "    </tr>\n",
              "    <tr>\n",
              "      <th>9</th>\n",
              "      <td>W000</td>\n",
              "      <td>TOMOGRAFIA COMPUTADORIZADA DE SELA TURCICA</td>\n",
              "      <td>97.44</td>\n",
              "    </tr>\n",
              "    <tr>\n",
              "      <th>10</th>\n",
              "      <td>W000</td>\n",
              "      <td>TOMOGRAFIA COMPUTADORIZADA DE TORAX</td>\n",
              "      <td>136.41</td>\n",
              "    </tr>\n",
              "    <tr>\n",
              "      <th>11</th>\n",
              "      <td>W000</td>\n",
              "      <td>TOMOGRAFIA COMPUTADORIZADA DO CRANIO</td>\n",
              "      <td>1948.80</td>\n",
              "    </tr>\n",
              "    <tr>\n",
              "      <th>12</th>\n",
              "      <td>W000</td>\n",
              "      <td>TRATAMENTO C/ CIRURGIAS MULTIPLAS</td>\n",
              "      <td>0.00</td>\n",
              "    </tr>\n",
              "    <tr>\n",
              "      <th>13</th>\n",
              "      <td>W000</td>\n",
              "      <td>ULTRA-SONOGRAFIA DE ABDOMEN TOTAL</td>\n",
              "      <td>113.85</td>\n",
              "    </tr>\n",
              "    <tr>\n",
              "      <th>14</th>\n",
              "      <td>W001</td>\n",
              "      <td>TOMOGRAFIA COMPUTADORIZADA DE COLUNA CERVICAL ...</td>\n",
              "      <td>173.52</td>\n",
              "    </tr>\n",
              "    <tr>\n",
              "      <th>15</th>\n",
              "      <td>W001</td>\n",
              "      <td>TOMOGRAFIA COMPUTADORIZADA DO CRANIO</td>\n",
              "      <td>97.44</td>\n",
              "    </tr>\n",
              "    <tr>\n",
              "      <th>16</th>\n",
              "      <td>W005</td>\n",
              "      <td>TOMOGRAFIA COMPUTADORIZADA DO CRANIO</td>\n",
              "      <td>194.88</td>\n",
              "    </tr>\n",
              "    <tr>\n",
              "      <th>17</th>\n",
              "      <td>W008</td>\n",
              "      <td>TOMOGRAFIA COMPUTADORIZADA DE SEGMENTOS APENDI...</td>\n",
              "      <td>86.75</td>\n",
              "    </tr>\n",
              "    <tr>\n",
              "      <th>18</th>\n",
              "      <td>W008</td>\n",
              "      <td>TOMOGRAFIA COMPUTADORIZADA DO CRANIO</td>\n",
              "      <td>97.44</td>\n",
              "    </tr>\n",
              "    <tr>\n",
              "      <th>19</th>\n",
              "      <td>W009</td>\n",
              "      <td>TOMOGRAFIA COMPUTADORIZADA DE COLUNA CERVICAL ...</td>\n",
              "      <td>86.76</td>\n",
              "    </tr>\n",
              "    <tr>\n",
              "      <th>20</th>\n",
              "      <td>W009</td>\n",
              "      <td>TOMOGRAFIA COMPUTADORIZADA DO CRANIO</td>\n",
              "      <td>97.44</td>\n",
              "    </tr>\n",
              "    <tr>\n",
              "      <th>21</th>\n",
              "      <td>W010</td>\n",
              "      <td>CURATIVO  GRAU II  C/ OU S/ DEBRIDAMENTO (POR ...</td>\n",
              "      <td>388.80</td>\n",
              "    </tr>\n",
              "    <tr>\n",
              "      <th>22</th>\n",
              "      <td>W010</td>\n",
              "      <td>DIAGNOSTICO E/OU ATENDIMENTO DE URGENCIA EM CL...</td>\n",
              "      <td>40.38</td>\n",
              "    </tr>\n",
              "    <tr>\n",
              "      <th>23</th>\n",
              "      <td>W010</td>\n",
              "      <td>DIAGNOSTICO E/OU ATENDIMENTO DE URGENCIA EM CL...</td>\n",
              "      <td>1061.28</td>\n",
              "    </tr>\n",
              "    <tr>\n",
              "      <th>24</th>\n",
              "      <td>W010</td>\n",
              "      <td>EXCISAO DE LESAO E/OU SUTURA DE FERIMENTO DA P...</td>\n",
              "      <td>1644.36</td>\n",
              "    </tr>\n",
              "    <tr>\n",
              "      <th>25</th>\n",
              "      <td>W010</td>\n",
              "      <td>RESSONANCIA MAGNETICA DE CRANIO</td>\n",
              "      <td>268.75</td>\n",
              "    </tr>\n",
              "    <tr>\n",
              "      <th>26</th>\n",
              "      <td>W010</td>\n",
              "      <td>TOMOGRAFIA COMPUTADORIZADA DE ABDOMEN</td>\n",
              "      <td>554.52</td>\n",
              "    </tr>\n",
              "    <tr>\n",
              "      <th>27</th>\n",
              "      <td>W010</td>\n",
              "      <td>TOMOGRAFIA COMPUTADORIZADA DE ARTICULACOES DE ...</td>\n",
              "      <td>173.50</td>\n",
              "    </tr>\n",
              "    <tr>\n",
              "      <th>28</th>\n",
              "      <td>W010</td>\n",
              "      <td>TOMOGRAFIA COMPUTADORIZADA DE ARTICULACOES DE ...</td>\n",
              "      <td>520.50</td>\n",
              "    </tr>\n",
              "    <tr>\n",
              "      <th>29</th>\n",
              "      <td>W010</td>\n",
              "      <td>TOMOGRAFIA COMPUTADORIZADA DE COLUNA CERVICAL ...</td>\n",
              "      <td>4338.00</td>\n",
              "    </tr>\n",
              "  </tbody>\n",
              "</table>\n",
              "</div>"
            ],
            "text/plain": [
              "   DIAG_PRINC  ... Total Hospitalar \n",
              "0        M625  ...            138.63\n",
              "1        M625  ...            398.66\n",
              "2        M625  ...             37.95\n",
              "3        W000  ...            132.66\n",
              "4        W000  ...            115.80\n",
              "5        W000  ...             86.76\n",
              "6        W000  ...            173.50\n",
              "7        W000  ...            138.63\n",
              "8        W000  ...             86.75\n",
              "9        W000  ...             97.44\n",
              "10       W000  ...            136.41\n",
              "11       W000  ...           1948.80\n",
              "12       W000  ...              0.00\n",
              "13       W000  ...            113.85\n",
              "14       W001  ...            173.52\n",
              "15       W001  ...             97.44\n",
              "16       W005  ...            194.88\n",
              "17       W008  ...             86.75\n",
              "18       W008  ...             97.44\n",
              "19       W009  ...             86.76\n",
              "20       W009  ...             97.44\n",
              "21       W010  ...            388.80\n",
              "22       W010  ...             40.38\n",
              "23       W010  ...           1061.28\n",
              "24       W010  ...           1644.36\n",
              "25       W010  ...            268.75\n",
              "26       W010  ...            554.52\n",
              "27       W010  ...            173.50\n",
              "28       W010  ...            520.50\n",
              "29       W010  ...           4338.00\n",
              "\n",
              "[30 rows x 3 columns]"
            ]
          },
          "metadata": {
            "tags": []
          },
          "execution_count": 23
        }
      ]
    },
    {
      "cell_type": "code",
      "metadata": {
        "id": "9-9oNO4T-wG0"
      },
      "source": [
        ""
      ],
      "execution_count": 23,
      "outputs": []
    }
  ]
}